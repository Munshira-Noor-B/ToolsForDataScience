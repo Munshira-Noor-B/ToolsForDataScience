{
  "metadata": {
    "language_info": {
      "codemirror_mode": {
        "name": "python",
        "version": 3
      },
      "file_extension": ".py",
      "mimetype": "text/x-python",
      "name": "python",
      "nbconvert_exporter": "python",
      "pygments_lexer": "ipython3",
      "version": "3.8"
    },
    "kernelspec": {
      "name": "python",
      "display_name": "Python (Pyodide)",
      "language": "python"
    }
  },
  "nbformat_minor": 4,
  "nbformat": 4,
  "cells": [
    {
      "cell_type": "markdown",
      "source": "# Data Science Tools and Ecosystem",
      "metadata": {}
    },
    {
      "cell_type": "markdown",
      "source": "## In this notebook, Data Science Tools and Ecosystem are summarized.",
      "metadata": {}
    },
    {
      "cell_type": "markdown",
      "source": "## Data Science Languages\n\nSome of the popular languages that Data Scientists use are:\n\n1. **Python**: Python is one of the most widely used programming languages in the field of data science. It offers a rich ecosystem of libraries like NumPy, Pandas, and Scikit-Learn for data analysis and machine learning.\n\n2. **R**: R is a language specifically designed for data analysis and visualization. It provides a wide range of packages for statistical modeling, machine learning, and data visualization.\n\n3. **SQL (Structured Query Language)**: SQL is essential for working with databases. Data scientists use SQL to query, manipulate, and analyze data stored in relational databases.\n\n4. **Julia**: Julia is a high-level, high-performance programming language for technical computing. It is gaining popularity in the data science community due to its speed and ease of use for numerical and scientific computing tasks.\n\n5. **Scala**: Scala is a versatile language that runs on the Java Virtual Machine (JVM). It is often used in big data processing frameworks like Apache Spark, making it valuable for large-scale data analysis.",
      "metadata": {}
    },
    {
      "cell_type": "markdown",
      "source": "## Data Science Libraries\n\nSome of the commonly used libraries by Data Scientists include:\n\n1. **NumPy**: NumPy is a fundamental package for scientific computing in Python. It provides support for arrays and matrices, along with a wide range of mathematical functions to operate on these arrays.\n\n2. **Pandas**: Pandas is a powerful data manipulation library for Python. It offers data structures like DataFrames and Series, which are essential for data cleaning, exploration, and analysis.\n\n3. **Scikit-Learn**: Scikit-Learn is a popular machine learning library for Python. It provides a wide range of machine learning algorithms and tools for data preprocessing and model evaluation.\n\n4. **Matplotlib**: Matplotlib is a comprehensive 2D plotting library for creating static, animated, and interactive visualizations in Python.\n\n5. **Seaborn**: Seaborn is a data visualization library built on top of Matplotlib. It simplifies the creation of informative and attractive statistical graphics.\n\n6. **TensorFlow**: TensorFlow is an open-source machine learning framework developed by Google. It is widely used for deep learning and neural network applications.",
      "metadata": {}
    },
    {
      "cell_type": "markdown",
      "source": "| Data Science Tools         |\n| -------------------------- |\n| Jupyter Notebook           |\n| RStudio                    |\n| Spyder                     |\n",
      "metadata": {}
    },
    {
      "cell_type": "markdown",
      "source": "### Arithmetic Expression Examples",
      "metadata": {}
    },
    {
      "cell_type": "code",
      "source": "# This is a simple arithmetic expression to multiply then add integers.\nresult = (3 * 4) + 5\nresult",
      "metadata": {
        "trusted": true
      },
      "execution_count": 3,
      "outputs": [
        {
          "execution_count": 3,
          "output_type": "execute_result",
          "data": {
            "text/plain": "17"
          },
          "metadata": {}
        }
      ]
    },
    {
      "cell_type": "code",
      "source": "# This will convert 200 minutes to hours by dividing by 60.\nminutes = 200\nhours = minutes / 60\nhours",
      "metadata": {
        "trusted": true
      },
      "execution_count": 4,
      "outputs": [
        {
          "execution_count": 4,
          "output_type": "execute_result",
          "data": {
            "text/plain": "3.3333333333333335"
          },
          "metadata": {}
        }
      ]
    },
    {
      "cell_type": "markdown",
      "source": "## **Objectives**\n\n- **Python**: Python is one of the most widely used programming languages in the field of data science. It offers a rich ecosystem of libraries like NumPy, Pandas, and Scikit-Learn for data analysis and machine learning.\n\n- **R**: R is a language specifically designed for data analysis and visualization. It provides a wide range of packages for statistical modeling, machine learning, and data visualization.\n\n- **SQL (Structured Query Language)**: SQL is essential for working with databases. Data scientists use SQL to query, manipulate, and analyze data stored in relational databases.\n\n- **Julia**: Julia is a high-level, high-performance programming language for technical computing. It is gaining popularity in the data science community due to its speed and ease of use for numerical and scientific computing tasks.",
      "metadata": {}
    },
    {
      "cell_type": "markdown",
      "source": "## Author\n\nMunshira Noor B",
      "metadata": {}
    },
    {
      "cell_type": "code",
      "source": "",
      "metadata": {},
      "execution_count": null,
      "outputs": []
    }
  ]
}